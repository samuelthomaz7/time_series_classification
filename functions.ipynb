{
 "cells": [
  {
   "cell_type": "code",
   "execution_count": 1,
   "metadata": {},
   "outputs": [],
   "source": [
    "import pandas as pd\n",
    "import seaborn as sns\n",
    "import numpy as np\n",
    "import matplotlib.pyplot as plt\n",
    "from statsmodels.tsa.seasonal import seasonal_decompose\n",
    "import statsmodels.tsa.seasonal as sea\n",
    "from statsmodels.tsa.stattools import acf\n",
    "import statsmodels.graphics.tsaplots as sgt\n",
    "from scipy.stats import boxcox\n",
    "from statsmodels.tsa.seasonal import STL\n",
    "import statsmodels.api as sm\n",
    "from patsy import dmatrix\n",
    "import statsmodels.api as sm\n",
    "import statsmodels.formula.api as smf\n",
    "import statsmodels.formula.api as smf\n",
    "from scipy.stats import chi2\n",
    "from scipy.stats import f"
   ]
  },
  {
   "cell_type": "code",
   "execution_count": null,
   "metadata": {},
   "outputs": [],
   "source": [
    "def TSFE():\n",
    "    \n",
    "    def __init__(self, x):\n",
    "        pass\n",
    "    \n",
    "    \n",
    "    def get_seasonality_and_trend(self, x):\n",
    "\n",
    "        # doing the box-cox transformation\n",
    "        complete_data = pd.DataFrame(x)\n",
    "\n",
    "        x_array = x.values\n",
    "\n",
    "        if(min(x_array) <= 0):\n",
    "            x_array = x_array - min(x) + 1\n",
    "\n",
    "        bc_obj =  boxcox(x_array)\n",
    "        lmbda = bc_obj[1]\n",
    "        transformed_series = bc_obj[0]\n",
    "\n",
    "        complete_data['box_cox'] = transformed_series    \n",
    "\n",
    "\n",
    "        period = get_periodicity(x_array, plot_bool = False)\n",
    "    #     print(period)\n",
    "\n",
    "        # calcule of seasonality strenght\n",
    "        if(period != 1):   \n",
    "            dec = seasonal_decompose(complete_data['box_cox'], period = period)\n",
    "            seasonal_strength = 1 - np.var(dec.resid)/np.var(dec.resid + dec.seasonal)\n",
    "        else:\n",
    "            dec = seasonal_decompose(complete_data['box_cox'])\n",
    "            seasonal_strength = 0\n",
    "\n",
    "        # calcule of trend strenght\n",
    "\n",
    "        trend_strength = 1 - np.var(dec.resid)/np.var(dec.resid + dec.trend)\n",
    "\n",
    "        return {'trend': trend_strength, 'seasonal': seasonal_strength}\n",
    "    \n",
    "\n"
   ]
  }
 ],
 "metadata": {
  "kernelspec": {
   "display_name": "Python 3",
   "language": "python",
   "name": "python3"
  },
  "language_info": {
   "codemirror_mode": {
    "name": "ipython",
    "version": 3
   },
   "file_extension": ".py",
   "mimetype": "text/x-python",
   "name": "python",
   "nbconvert_exporter": "python",
   "pygments_lexer": "ipython3",
   "version": "3.8.5"
  }
 },
 "nbformat": 4,
 "nbformat_minor": 4
}
